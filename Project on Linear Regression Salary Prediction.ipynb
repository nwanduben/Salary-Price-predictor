{
 "cells": [
  {
   "cell_type": "markdown",
   "id": "febbd343",
   "metadata": {},
   "source": [
    "### Project on Salary prediction using Linear Regression"
   ]
  },
  {
   "cell_type": "markdown",
   "id": "56d3603a",
   "metadata": {},
   "source": [
    "# Employee Salary Dataset\n",
    "\n",
    "## About Dataset\n",
    "\n",
    "This dataset contains information about the salaries of employees at a hypothetical company. Each row represents a different employee, and the columns include information such as age, gender, education level, job title, years of experience, and salary.\n",
    "\n",
    "### Columns:\n",
    "\n",
    "- **Age:** This column represents the age of each employee in years. The values in this column are numeric.\n",
    "\n",
    "- **Gender:** This column contains the gender of each employee, which can be either male or female. The values in this column are categorical.\n",
    "\n",
    "- **Education Level:** This column contains the educational level of each employee, which can be high school, bachelor's degree, master's degree, or PhD. The values in this column are categorical.\n",
    "\n",
    "- **Job Title:** This column contains the job title of each employee. The job titles can vary depending on the company and may include positions such as manager, analyst, engineer, or administrator. The values in this column are categorical.\n",
    "\n",
    "- **Years of Experience:** This column represents the number of years of work experience of each employee. The values in this column are numeric.\n",
    "\n",
    "- **Salary:** This column represents the annual salary of each employee in US dollars. The values in this column are numeric and can vary depending on factors such as job title, years of experience, and education level.\n",
    "\n",
    "### Purpose and Source:\n",
    "\n",
    "The purpose of creating this dataset is solely for educational use, and any commercial use is strictly prohibited. This dataset was generated using large language models and not collected from actual data sources.\n",
    "\n",
    "### Source:\n",
    "\n",
    "This dataset was obtained from [Kaggle](https://www.kaggle.com/datasets/rkiattisak/salaly-prediction-for-beginer/data).\n",
    "\n",
    "---\n",
    "\n",
    "*Note: This dataset is fictional and created for educational purposes only.*\n"
   ]
  },
  {
   "cell_type": "code",
   "execution_count": 1,
   "id": "7e720833",
   "metadata": {},
   "outputs": [
    {
     "data": {
      "text/plain": [
       "['from sklearn.ensemble import GradientBoostingClassifier',\n",
       " 'import sys',\n",
       " 'import statistics',\n",
       " 'import re',\n",
       " 'from sklearn.preprocessing import MinMaxScaler',\n",
       " 'from sklearn.preprocessing import PolynomialFeatures',\n",
       " 'import fbprophet',\n",
       " 'from statsmodels.tsa.arima_model import ARIMA',\n",
       " 'import lightgbm as lgb',\n",
       " 'import sklearn',\n",
       " 'import plotly.express as px',\n",
       " 'from scipy import signal as sg',\n",
       " 'import tqdm',\n",
       " 'from pathlib import Path',\n",
       " 'import spacy',\n",
       " 'from sklearn.linear_model import Ridge',\n",
       " 'from sklearn.feature_extraction.text import CountVectorizer',\n",
       " 'import matplotlib as mpl',\n",
       " 'import pickle',\n",
       " 'import awswrangler as wr',\n",
       " 'import xgboost as xgb',\n",
       " 'from pyspark import SparkContext',\n",
       " 'from sklearn.linear_model import RidgeCV',\n",
       " 'from sklearn.model_selection import KFold',\n",
       " 'import os',\n",
       " 'import glob',\n",
       " 'from sklearn.model_selection import cross_val_score',\n",
       " 'from sklearn.cluster import KMeans',\n",
       " 'from sklearn.feature_extraction.text import TfidfVectorizer',\n",
       " 'from xlrd import open_workbook',\n",
       " 'import numpy as np',\n",
       " 'from sklearn.ensemble import GradientBoostingRegressor',\n",
       " 'import fastai',\n",
       " 'import imutils',\n",
       " 'from sklearn.preprocessing import StandardScaler',\n",
       " 'import datetime as dt',\n",
       " 'import keras',\n",
       " 'from fbprophet import Prophet',\n",
       " 'from sklearn.linear_model import LinearRegression',\n",
       " 'from sklearn.linear_model import ElasticNet',\n",
       " 'import tensorflow as tf',\n",
       " 'from scipy import stats',\n",
       " 'from PIL import Image',\n",
       " 'from sklearn.model_selection import RandomizedSearchCV',\n",
       " 'import seaborn as sns',\n",
       " 'from sklearn.model_selection import StratifiedKFold',\n",
       " 'from sklearn.linear_model import ElasticNetCV',\n",
       " 'from sklearn.linear_model import Lasso',\n",
       " 'import textblob',\n",
       " 'import plotly.graph_objs as go',\n",
       " 'from sklearn import svm',\n",
       " 'import pydot',\n",
       " 'import plotly as py',\n",
       " 'import gensim',\n",
       " 'from sklearn import metrics',\n",
       " 'from dask import dataframe as dd',\n",
       " 'import skimage',\n",
       " 'from sklearn.model_selection import GridSearchCV',\n",
       " 'import statsmodels.api as sm',\n",
       " 'from sklearn.preprocessing import LabelEncoder',\n",
       " 'import torch',\n",
       " 'from sklearn.preprocessing import OneHotEncoder',\n",
       " 'from sklearn.linear_model import LassoCV',\n",
       " 'from openpyxl import load_workbook',\n",
       " 'from sklearn.linear_model import LogisticRegression',\n",
       " 'from sklearn.ensemble import RandomForestClassifier',\n",
       " 'from sklearn.ensemble import RandomForestRegressor',\n",
       " 'import cv2',\n",
       " 'import bokeh',\n",
       " 'import matplotlib.pyplot as plt',\n",
       " 'from sklearn.impute import SimpleImputer',\n",
       " 'import pandas as pd',\n",
       " 'import nltk',\n",
       " 'from sklearn.manifold import TSNE',\n",
       " 'from sklearn.preprocessing import RobustScaler',\n",
       " 'import altair as alt',\n",
       " 'from sklearn.decomposition import PCA',\n",
       " 'import dash',\n",
       " 'from sklearn.model_selection import train_test_split']"
      ]
     },
     "execution_count": 1,
     "metadata": {},
     "output_type": "execute_result"
    }
   ],
   "source": [
    "from pyforest import*\n",
    "lazy_imports()"
   ]
  },
  {
   "cell_type": "code",
   "execution_count": 2,
   "id": "63efd7ca",
   "metadata": {},
   "outputs": [
    {
     "data": {
      "application/javascript": [
       "\n",
       "        if (window._pyforest_update_imports_cell) { window._pyforest_update_imports_cell('import pandas as pd'); }\n",
       "    "
      ],
      "text/plain": [
       "<IPython.core.display.Javascript object>"
      ]
     },
     "metadata": {},
     "output_type": "display_data"
    }
   ],
   "source": [
    "df = pd.read_csv('/Users/mac/Downloads/Salary Data.csv')"
   ]
  },
  {
   "cell_type": "code",
   "execution_count": 3,
   "id": "25e51aa4",
   "metadata": {},
   "outputs": [
    {
     "data": {
      "text/html": [
       "<div>\n",
       "<style scoped>\n",
       "    .dataframe tbody tr th:only-of-type {\n",
       "        vertical-align: middle;\n",
       "    }\n",
       "\n",
       "    .dataframe tbody tr th {\n",
       "        vertical-align: top;\n",
       "    }\n",
       "\n",
       "    .dataframe thead th {\n",
       "        text-align: right;\n",
       "    }\n",
       "</style>\n",
       "<table border=\"1\" class=\"dataframe\">\n",
       "  <thead>\n",
       "    <tr style=\"text-align: right;\">\n",
       "      <th></th>\n",
       "      <th>Age</th>\n",
       "      <th>Gender</th>\n",
       "      <th>Education Level</th>\n",
       "      <th>Job Title</th>\n",
       "      <th>Years of Experience</th>\n",
       "      <th>Salary</th>\n",
       "    </tr>\n",
       "  </thead>\n",
       "  <tbody>\n",
       "    <tr>\n",
       "      <th>0</th>\n",
       "      <td>32.0</td>\n",
       "      <td>Male</td>\n",
       "      <td>Bachelor's</td>\n",
       "      <td>Software Engineer</td>\n",
       "      <td>5.0</td>\n",
       "      <td>90000.0</td>\n",
       "    </tr>\n",
       "    <tr>\n",
       "      <th>1</th>\n",
       "      <td>28.0</td>\n",
       "      <td>Female</td>\n",
       "      <td>Master's</td>\n",
       "      <td>Data Analyst</td>\n",
       "      <td>3.0</td>\n",
       "      <td>65000.0</td>\n",
       "    </tr>\n",
       "    <tr>\n",
       "      <th>2</th>\n",
       "      <td>45.0</td>\n",
       "      <td>Male</td>\n",
       "      <td>PhD</td>\n",
       "      <td>Senior Manager</td>\n",
       "      <td>15.0</td>\n",
       "      <td>150000.0</td>\n",
       "    </tr>\n",
       "    <tr>\n",
       "      <th>3</th>\n",
       "      <td>36.0</td>\n",
       "      <td>Female</td>\n",
       "      <td>Bachelor's</td>\n",
       "      <td>Sales Associate</td>\n",
       "      <td>7.0</td>\n",
       "      <td>60000.0</td>\n",
       "    </tr>\n",
       "    <tr>\n",
       "      <th>4</th>\n",
       "      <td>52.0</td>\n",
       "      <td>Male</td>\n",
       "      <td>Master's</td>\n",
       "      <td>Director</td>\n",
       "      <td>20.0</td>\n",
       "      <td>200000.0</td>\n",
       "    </tr>\n",
       "  </tbody>\n",
       "</table>\n",
       "</div>"
      ],
      "text/plain": [
       "    Age  Gender Education Level          Job Title  Years of Experience  \\\n",
       "0  32.0    Male      Bachelor's  Software Engineer                  5.0   \n",
       "1  28.0  Female        Master's       Data Analyst                  3.0   \n",
       "2  45.0    Male             PhD     Senior Manager                 15.0   \n",
       "3  36.0  Female      Bachelor's    Sales Associate                  7.0   \n",
       "4  52.0    Male        Master's           Director                 20.0   \n",
       "\n",
       "     Salary  \n",
       "0   90000.0  \n",
       "1   65000.0  \n",
       "2  150000.0  \n",
       "3   60000.0  \n",
       "4  200000.0  "
      ]
     },
     "execution_count": 3,
     "metadata": {},
     "output_type": "execute_result"
    }
   ],
   "source": [
    "df.head()"
   ]
  },
  {
   "cell_type": "markdown",
   "id": "d142d55c",
   "metadata": {},
   "source": [
    "## Exploratory Data Analysis"
   ]
  },
  {
   "cell_type": "code",
   "execution_count": 4,
   "id": "8443c6d3",
   "metadata": {},
   "outputs": [
    {
     "name": "stdout",
     "output_type": "stream",
     "text": [
      "<class 'pandas.core.frame.DataFrame'>\n",
      "RangeIndex: 375 entries, 0 to 374\n",
      "Data columns (total 6 columns):\n",
      " #   Column               Non-Null Count  Dtype  \n",
      "---  ------               --------------  -----  \n",
      " 0   Age                  373 non-null    float64\n",
      " 1   Gender               373 non-null    object \n",
      " 2   Education Level      373 non-null    object \n",
      " 3   Job Title            373 non-null    object \n",
      " 4   Years of Experience  373 non-null    float64\n",
      " 5   Salary               373 non-null    float64\n",
      "dtypes: float64(3), object(3)\n",
      "memory usage: 17.7+ KB\n"
     ]
    }
   ],
   "source": [
    "df.info()"
   ]
  },
  {
   "cell_type": "code",
   "execution_count": 5,
   "id": "bf371ef3",
   "metadata": {},
   "outputs": [
    {
     "data": {
      "text/plain": [
       "Age                    2\n",
       "Gender                 2\n",
       "Education Level        2\n",
       "Job Title              2\n",
       "Years of Experience    2\n",
       "Salary                 2\n",
       "dtype: int64"
      ]
     },
     "execution_count": 5,
     "metadata": {},
     "output_type": "execute_result"
    }
   ],
   "source": [
    "df.isna().sum()"
   ]
  },
  {
   "cell_type": "code",
   "execution_count": 6,
   "id": "92f8a4c6",
   "metadata": {},
   "outputs": [
    {
     "data": {
      "application/javascript": [
       "\n",
       "        if (window._pyforest_update_imports_cell) { window._pyforest_update_imports_cell('import pandas as pd'); }\n",
       "    "
      ],
      "text/plain": [
       "<IPython.core.display.Javascript object>"
      ]
     },
     "metadata": {},
     "output_type": "display_data"
    },
    {
     "name": "stdout",
     "output_type": "stream",
     "text": [
      "Rows with Non-Integer Values:\n",
      "     Age Gender Education Level Job Title  Years of Experience  Salary\n",
      "172  NaN    NaN             NaN       NaN                  NaN     NaN\n",
      "260  NaN    NaN             NaN       NaN                  NaN     NaN\n"
     ]
    }
   ],
   "source": [
    "# we find the rows that masked the missing values\n",
    "mask_non_integer = pd.to_numeric(df['Age'], errors='coerce').isna()\n",
    "# Display rows with non-integer values\n",
    "rows_with_non_integer = df[mask_non_integer]\n",
    "print(\"Rows with Non-Integer Values:\")\n",
    "print(rows_with_non_integer)"
   ]
  },
  {
   "cell_type": "code",
   "execution_count": 7,
   "id": "09688ca0",
   "metadata": {},
   "outputs": [],
   "source": [
    "df = df.dropna(axis=0)\n"
   ]
  },
  {
   "cell_type": "code",
   "execution_count": 8,
   "id": "f6b97bad",
   "metadata": {},
   "outputs": [
    {
     "data": {
      "text/plain": [
       "Male      194\n",
       "Female    179\n",
       "Name: Gender, dtype: int64"
      ]
     },
     "execution_count": 8,
     "metadata": {},
     "output_type": "execute_result"
    }
   ],
   "source": [
    "df['Gender'].value_counts()"
   ]
  },
  {
   "cell_type": "code",
   "execution_count": 9,
   "id": "f06ad20b",
   "metadata": {},
   "outputs": [
    {
     "data": {
      "text/plain": [
       "Age                    0\n",
       "Gender                 0\n",
       "Education Level        0\n",
       "Job Title              0\n",
       "Years of Experience    0\n",
       "Salary                 0\n",
       "dtype: int64"
      ]
     },
     "execution_count": 9,
     "metadata": {},
     "output_type": "execute_result"
    }
   ],
   "source": [
    "df.isnull().sum()"
   ]
  },
  {
   "cell_type": "code",
   "execution_count": 10,
   "id": "427df0d0",
   "metadata": {},
   "outputs": [],
   "source": [
    "#convert the Age,salary and years of experience to integers\n",
    "df['Age'] = df['Age'].astype(int)\n",
    "df['Salary']= df['Salary'].astype(int)\n",
    "df['Years of Experience'] = df['Years of Experience'].astype(int)"
   ]
  },
  {
   "cell_type": "code",
   "execution_count": 11,
   "id": "1cf9946c",
   "metadata": {},
   "outputs": [
    {
     "data": {
      "text/plain": [
       "Age                     int64\n",
       "Gender                 object\n",
       "Education Level        object\n",
       "Job Title              object\n",
       "Years of Experience     int64\n",
       "Salary                  int64\n",
       "dtype: object"
      ]
     },
     "execution_count": 11,
     "metadata": {},
     "output_type": "execute_result"
    }
   ],
   "source": [
    "df.dtypes"
   ]
  },
  {
   "cell_type": "code",
   "execution_count": 12,
   "id": "d534a5a6",
   "metadata": {
    "scrolled": false
   },
   "outputs": [
    {
     "data": {
      "application/javascript": [
       "\n",
       "        if (window._pyforest_update_imports_cell) { window._pyforest_update_imports_cell('import pandas as pd\\nimport seaborn as sns'); }\n",
       "    "
      ],
      "text/plain": [
       "<IPython.core.display.Javascript object>"
      ]
     },
     "metadata": {},
     "output_type": "display_data"
    },
    {
     "data": {
      "text/plain": [
       "<seaborn.axisgrid.PairGrid at 0x7faa19c29d90>"
      ]
     },
     "execution_count": 12,
     "metadata": {},
     "output_type": "execute_result"
    },
    {
     "data": {
      "image/png": "[encoded data removed]",
      "text/plain": [
       "<Figure size 540x540 with 12 Axes>"
      ]
     },
     "metadata": {
      "needs_background": "light"
     },
     "output_type": "display_data"
    }
   ],
   "source": [
    "cData_attr = df.iloc[:,0:6]\n",
    "sns.pairplot(cData_attr, diag_kind='kde')"
   ]
  },
  {
   "cell_type": "code",
   "execution_count": 14,
   "id": "7d0343d5",
   "metadata": {},
   "outputs": [
    {
     "data": {
      "application/javascript": [
       "\n",
       "        if (window._pyforest_update_imports_cell) { window._pyforest_update_imports_cell('import pandas as pd\\nimport seaborn as sns\\nimport matplotlib.pyplot as plt'); }\n",
       "    "
      ],
      "text/plain": [
       "<IPython.core.display.Javascript object>"
      ]
     },
     "metadata": {},
     "output_type": "display_data"
    },
    {
     "data": {
      "text/plain": [
       "<AxesSubplot:>"
      ]
     },
     "execution_count": 14,
     "metadata": {},
     "output_type": "execute_result"
    },
    {
     "data": {
      "image/png": "[encoded data removed]",
      "text/plain": [
       "<Figure size 432x288 with 2 Axes>"
      ]
     },
     "metadata": {
      "needs_background": "light"
     },
     "output_type": "display_data"
    }
   ],
   "source": [
    "sns.heatmap(df.corr(),annot=True,cmap='coolwarm')"
   ]
  },
  {
   "cell_type": "markdown",
   "id": "b355a865",
   "metadata": {},
   "source": [
    "### OBSERVATION:\n",
    "#### There is a very strong Relationship between age and Years of Experience\n",
    "#### There Is also a very strong Relationship between Years of Experience and Salary\n",
    "#### There is no relationship between Level of Education and Job Title"
   ]
  },
  {
   "cell_type": "code",
   "execution_count": 15,
   "id": "cfaa79bc",
   "metadata": {},
   "outputs": [
    {
     "data": {
      "text/plain": [
       "Index(['Age', 'Gender', 'Education Level', 'Job Title', 'Years of Experience',\n",
       "       'Salary'],\n",
       "      dtype='object')"
      ]
     },
     "execution_count": 15,
     "metadata": {},
     "output_type": "execute_result"
    }
   ],
   "source": [
    "df.columns"
   ]
  },
  {
   "cell_type": "code",
   "execution_count": 16,
   "id": "aee69974",
   "metadata": {},
   "outputs": [
    {
     "data": {
      "application/javascript": [
       "\n",
       "        if (window._pyforest_update_imports_cell) { window._pyforest_update_imports_cell('import pandas as pd\\nimport seaborn as sns\\nimport matplotlib.pyplot as plt'); }\n",
       "    "
      ],
      "text/plain": [
       "<IPython.core.display.Javascript object>"
      ]
     },
     "metadata": {},
     "output_type": "display_data"
    },
    {
     "data": {
      "text/html": [
       "<div>\n",
       "<style scoped>\n",
       "    .dataframe tbody tr th:only-of-type {\n",
       "        vertical-align: middle;\n",
       "    }\n",
       "\n",
       "    .dataframe tbody tr th {\n",
       "        vertical-align: top;\n",
       "    }\n",
       "\n",
       "    .dataframe thead th {\n",
       "        text-align: right;\n",
       "    }\n",
       "</style>\n",
       "<table border=\"1\" class=\"dataframe\">\n",
       "  <thead>\n",
       "    <tr style=\"text-align: right;\">\n",
       "      <th></th>\n",
       "      <th>Age</th>\n",
       "      <th>Years of Experience</th>\n",
       "      <th>Salary</th>\n",
       "      <th>Gender_Female</th>\n",
       "      <th>Gender_Male</th>\n",
       "      <th>Education Level_Bachelor's</th>\n",
       "      <th>Education Level_Master's</th>\n",
       "      <th>Education Level_PhD</th>\n",
       "      <th>Job Title_Account Manager</th>\n",
       "      <th>Job Title_Accountant</th>\n",
       "      <th>...</th>\n",
       "      <th>Job Title_Supply Chain Manager</th>\n",
       "      <th>Job Title_Technical Recruiter</th>\n",
       "      <th>Job Title_Technical Support Specialist</th>\n",
       "      <th>Job Title_Technical Writer</th>\n",
       "      <th>Job Title_Training Specialist</th>\n",
       "      <th>Job Title_UX Designer</th>\n",
       "      <th>Job Title_UX Researcher</th>\n",
       "      <th>Job Title_VP of Finance</th>\n",
       "      <th>Job Title_VP of Operations</th>\n",
       "      <th>Job Title_Web Developer</th>\n",
       "    </tr>\n",
       "  </thead>\n",
       "  <tbody>\n",
       "    <tr>\n",
       "      <th>0</th>\n",
       "      <td>32</td>\n",
       "      <td>5</td>\n",
       "      <td>90000</td>\n",
       "      <td>0</td>\n",
       "      <td>1</td>\n",
       "      <td>1</td>\n",
       "      <td>0</td>\n",
       "      <td>0</td>\n",
       "      <td>0</td>\n",
       "      <td>0</td>\n",
       "      <td>...</td>\n",
       "      <td>0</td>\n",
       "      <td>0</td>\n",
       "      <td>0</td>\n",
       "      <td>0</td>\n",
       "      <td>0</td>\n",
       "      <td>0</td>\n",
       "      <td>0</td>\n",
       "      <td>0</td>\n",
       "      <td>0</td>\n",
       "      <td>0</td>\n",
       "    </tr>\n",
       "    <tr>\n",
       "      <th>1</th>\n",
       "      <td>28</td>\n",
       "      <td>3</td>\n",
       "      <td>65000</td>\n",
       "      <td>1</td>\n",
       "      <td>0</td>\n",
       "      <td>0</td>\n",
       "      <td>1</td>\n",
       "      <td>0</td>\n",
       "      <td>0</td>\n",
       "      <td>0</td>\n",
       "      <td>...</td>\n",
       "      <td>0</td>\n",
       "      <td>0</td>\n",
       "      <td>0</td>\n",
       "      <td>0</td>\n",
       "      <td>0</td>\n",
       "      <td>0</td>\n",
       "      <td>0</td>\n",
       "      <td>0</td>\n",
       "      <td>0</td>\n",
       "      <td>0</td>\n",
       "    </tr>\n",
       "    <tr>\n",
       "      <th>2</th>\n",
       "      <td>45</td>\n",
       "      <td>15</td>\n",
       "      <td>150000</td>\n",
       "      <td>0</td>\n",
       "      <td>1</td>\n",
       "      <td>0</td>\n",
       "      <td>0</td>\n",
       "      <td>1</td>\n",
       "      <td>0</td>\n",
       "      <td>0</td>\n",
       "      <td>...</td>\n",
       "      <td>0</td>\n",
       "      <td>0</td>\n",
       "      <td>0</td>\n",
       "      <td>0</td>\n",
       "      <td>0</td>\n",
       "      <td>0</td>\n",
       "      <td>0</td>\n",
       "      <td>0</td>\n",
       "      <td>0</td>\n",
       "      <td>0</td>\n",
       "    </tr>\n",
       "    <tr>\n",
       "      <th>3</th>\n",
       "      <td>36</td>\n",
       "      <td>7</td>\n",
       "      <td>60000</td>\n",
       "      <td>1</td>\n",
       "      <td>0</td>\n",
       "      <td>1</td>\n",
       "      <td>0</td>\n",
       "      <td>0</td>\n",
       "      <td>0</td>\n",
       "      <td>0</td>\n",
       "      <td>...</td>\n",
       "      <td>0</td>\n",
       "      <td>0</td>\n",
       "      <td>0</td>\n",
       "      <td>0</td>\n",
       "      <td>0</td>\n",
       "      <td>0</td>\n",
       "      <td>0</td>\n",
       "      <td>0</td>\n",
       "      <td>0</td>\n",
       "      <td>0</td>\n",
       "    </tr>\n",
       "    <tr>\n",
       "      <th>4</th>\n",
       "      <td>52</td>\n",
       "      <td>20</td>\n",
       "      <td>200000</td>\n",
       "      <td>0</td>\n",
       "      <td>1</td>\n",
       "      <td>0</td>\n",
       "      <td>1</td>\n",
       "      <td>0</td>\n",
       "      <td>0</td>\n",
       "      <td>0</td>\n",
       "      <td>...</td>\n",
       "      <td>0</td>\n",
       "      <td>0</td>\n",
       "      <td>0</td>\n",
       "      <td>0</td>\n",
       "      <td>0</td>\n",
       "      <td>0</td>\n",
       "      <td>0</td>\n",
       "      <td>0</td>\n",
       "      <td>0</td>\n",
       "      <td>0</td>\n",
       "    </tr>\n",
       "  </tbody>\n",
       "</table>\n",
       "<p>5 rows × 182 columns</p>\n",
       "</div>"
      ],
      "text/plain": [
       "   Age  Years of Experience  Salary  Gender_Female  Gender_Male  \\\n",
       "0   32                    5   90000              0            1   \n",
       "1   28                    3   65000              1            0   \n",
       "2   45                   15  150000              0            1   \n",
       "3   36                    7   60000              1            0   \n",
       "4   52                   20  200000              0            1   \n",
       "\n",
       "   Education Level_Bachelor's  Education Level_Master's  Education Level_PhD  \\\n",
       "0                           1                         0                    0   \n",
       "1                           0                         1                    0   \n",
       "2                           0                         0                    1   \n",
       "3                           1                         0                    0   \n",
       "4                           0                         1                    0   \n",
       "\n",
       "   Job Title_Account Manager  Job Title_Accountant  ...  \\\n",
       "0                          0                     0  ...   \n",
       "1                          0                     0  ...   \n",
       "2                          0                     0  ...   \n",
       "3                          0                     0  ...   \n",
       "4                          0                     0  ...   \n",
       "\n",
       "   Job Title_Supply Chain Manager  Job Title_Technical Recruiter  \\\n",
       "0                               0                              0   \n",
       "1                               0                              0   \n",
       "2                               0                              0   \n",
       "3                               0                              0   \n",
       "4                               0                              0   \n",
       "\n",
       "   Job Title_Technical Support Specialist  Job Title_Technical Writer  \\\n",
       "0                                       0                           0   \n",
       "1                                       0                           0   \n",
       "2                                       0                           0   \n",
       "3                                       0                           0   \n",
       "4                                       0                           0   \n",
       "\n",
       "   Job Title_Training Specialist  Job Title_UX Designer  \\\n",
       "0                              0                      0   \n",
       "1                              0                      0   \n",
       "2                              0                      0   \n",
       "3                              0                      0   \n",
       "4                              0                      0   \n",
       "\n",
       "   Job Title_UX Researcher  Job Title_VP of Finance  \\\n",
       "0                        0                        0   \n",
       "1                        0                        0   \n",
       "2                        0                        0   \n",
       "3                        0                        0   \n",
       "4                        0                        0   \n",
       "\n",
       "   Job Title_VP of Operations  Job Title_Web Developer  \n",
       "0                           0                        0  \n",
       "1                           0                        0  \n",
       "2                           0                        0  \n",
       "3                           0                        0  \n",
       "4                           0                        0  \n",
       "\n",
       "[5 rows x 182 columns]"
      ]
     },
     "execution_count": 16,
     "metadata": {},
     "output_type": "execute_result"
    }
   ],
   "source": [
    "df = pd.get_dummies(df, columns=['Gender', 'Education Level', 'Job Title'])\n",
    "df.head()"
   ]
  },
  {
   "cell_type": "markdown",
   "id": "4d2ec624",
   "metadata": {},
   "source": [
    "## Split Data and Scale Data"
   ]
  },
  {
   "cell_type": "code",
   "execution_count": 17,
   "id": "62fa46d0",
   "metadata": {},
   "outputs": [],
   "source": [
    "X = df.drop(['Salary'],axis = 1)\n",
    "y = df['Salary']"
   ]
  },
  {
   "cell_type": "code",
   "execution_count": 18,
   "id": "fc52f91e",
   "metadata": {},
   "outputs": [
    {
     "data": {
      "application/javascript": [
       "\n",
       "        if (window._pyforest_update_imports_cell) { window._pyforest_update_imports_cell('from sklearn.model_selection import train_test_split\\nimport pandas as pd\\nimport seaborn as sns\\nimport matplotlib.pyplot as plt'); }\n",
       "    "
      ],
      "text/plain": [
       "<IPython.core.display.Javascript object>"
      ]
     },
     "metadata": {},
     "output_type": "display_data"
    }
   ],
   "source": [
    "# Split X and y into training and test set in 70:30 ratio\n",
    "\n",
    "X_train, X_test, y_train, y_test = train_test_split(X, y, test_size=0.30, random_state=1)"
   ]
  },
  {
   "cell_type": "code",
   "execution_count": 19,
   "id": "b1c0f668",
   "metadata": {},
   "outputs": [],
   "source": [
    "# SCALE DATA\n",
    "from sklearn.preprocessing import StandardScaler\n",
    "scaler = StandardScaler()\n",
    "scaler.fit(X_train)\n",
    "X_train_scaled = scaler.transform(X_train)\n",
    "X_test_scaled = scaler.transform(X_test)"
   ]
  },
  {
   "cell_type": "markdown",
   "id": "4e65bb20",
   "metadata": {},
   "source": [
    "## Fit the Model"
   ]
  },
  {
   "cell_type": "code",
   "execution_count": 20,
   "id": "6c200c41",
   "metadata": {},
   "outputs": [],
   "source": [
    "from sklearn.linear_model import Ridge\n",
    "alpha = 1  # You can adjust the alpha parameter for the desired level of regularization\n",
    "ridge_model = Ridge(alpha=alpha)\n",
    "\n",
    "# Train the Ridge model\n",
    "ridge_model.fit(X_train_scaled, y_train)\n",
    "\n",
    "# Make predictions on the testing data\n",
    "y_pred = ridge_model.predict(X_test_scaled)\n",
    "\n"
   ]
  },
  {
   "cell_type": "markdown",
   "id": "19efabd8",
   "metadata": {},
   "source": [
    "### Evaluation"
   ]
  },
  {
   "cell_type": "code",
   "execution_count": 22,
   "id": "fdcc029e",
   "metadata": {},
   "outputs": [
    {
     "name": "stdout",
     "output_type": "stream",
     "text": [
      "Training Mean Squared Error: 36318633.117242865\n",
      "Training R-squared: 0.9838625173879225\n",
      "\n",
      "Testing Mean Squared Error: 283201322.2261277\n",
      "Testing R-squared: 0.8860183531350512\n"
     ]
    },
    {
     "data": {
      "image/png": "[encoded data removed]",
      "text/plain": [
       "<Figure size 432x288 with 1 Axes>"
      ]
     },
     "metadata": {
      "needs_background": "light"
     },
     "output_type": "display_data"
    }
   ],
   "source": [
    "import matplotlib.pyplot as plt\n",
    "import numpy as np\n",
    "from sklearn.metrics import mean_squared_error, r2_score\n",
    "# Predictions on training set\n",
    "y_train_pred = ridge_model.predict(X_train_scaled)\n",
    "\n",
    "# Predictions on testing set\n",
    "y_test_pred = ridge_model.predict(X_test_scaled)\n",
    "\n",
    "# Evaluate the model on training set\n",
    "mse_train = mean_squared_error(y_train, y_train_pred)\n",
    "r_squared_train = r2_score(y_train, y_train_pred)\n",
    "\n",
    "# Evaluate the model on testing set\n",
    "mse_test = mean_squared_error(y_test, y_test_pred)\n",
    "r_squared_test = r2_score(y_test, y_test_pred)\n",
    "\n",
    "print(\"Training Mean Squared Error:\", mse_train)\n",
    "print(\"Training R-squared:\", r_squared_train)\n",
    "print(\"\\nTesting Mean Squared Error:\", mse_test)\n",
    "print(\"Testing R-squared:\", r_squared_test)\n",
    "\n",
    "# Plot predictions vs actual values for testing set\n",
    "plt.scatter(y_test, y_test_pred)\n",
    "plt.xlabel(\"Actual Values\")\n",
    "plt.ylabel(\"Predicted Values\")\n",
    "plt.title(\"Predictions vs Actual Values (Testing Set)\")\n",
    "plt.show()\n"
   ]
  },
  {
   "cell_type": "markdown",
   "id": "f7fc814d",
   "metadata": {},
   "source": [
    "## Choosing the best Alpha"
   ]
  },
  {
   "cell_type": "code",
   "execution_count": 23,
   "id": "3d10f1c6",
   "metadata": {},
   "outputs": [
    {
     "data": {
      "application/javascript": [
       "\n",
       "        if (window._pyforest_update_imports_cell) { window._pyforest_update_imports_cell('import seaborn as sns\\nfrom sklearn.model_selection import train_test_split\\nimport matplotlib.pyplot as plt\\nimport pandas as pd\\nfrom sklearn.linear_model import RidgeCV'); }\n",
       "    "
      ],
      "text/plain": [
       "<IPython.core.display.Javascript object>"
      ]
     },
     "metadata": {},
     "output_type": "display_data"
    },
    {
     "name": "stdout",
     "output_type": "stream",
     "text": [
      "Optimal Alpha: 10.0\n"
     ]
    },
    {
     "data": {
      "image/png": "[encoded data removed]",
      "text/plain": [
       "<Figure size 720x432 with 1 Axes>"
      ]
     },
     "metadata": {
      "needs_background": "light"
     },
     "output_type": "display_data"
    }
   ],
   "source": [
    "# Set up a range of alpha values to test\n",
    "alphas = np.logspace(-6, 6, 13)\n",
    "\n",
    "# Create RidgeCV model with cross-validation\n",
    "ridge_cv_model = RidgeCV(alphas=alphas, store_cv_values=True)\n",
    "\n",
    "# Fit the RidgeCV model\n",
    "ridge_cv_model.fit(X_train_scaled, y_train)\n",
    "\n",
    "# Get the optimal alpha value\n",
    "optimal_alpha = ridge_cv_model.alpha_\n",
    "print(\"Optimal Alpha:\", optimal_alpha)\n",
    "\n",
    "# Get the cross-validated MSE values for each alpha\n",
    "cv_mse_values = np.mean(ridge_cv_model.cv_values_, axis=0)\n",
    "\n",
    "# Plot cross-validated MSE values for each alpha\n",
    "import matplotlib.pyplot as plt\n",
    "\n",
    "plt.figure(figsize=(10, 6))\n",
    "plt.plot(alphas, cv_mse_values, marker='o', linestyle='-', color='b')\n",
    "plt.xscale('log')\n",
    "plt.xlabel('Alpha (log scale)')\n",
    "plt.ylabel('Cross-validated MSE')\n",
    "plt.title('Cross-validated Ridge Regression')\n",
    "plt.show()\n"
   ]
  },
  {
   "cell_type": "code",
   "execution_count": 24,
   "id": "3de8dee3",
   "metadata": {},
   "outputs": [],
   "source": [
    "from sklearn.linear_model import Ridge\n",
    "alpha = 10  # You can adjust the alpha parameter for the desired level of regularization\n",
    "ridge_model_2 = Ridge(alpha=alpha)\n",
    "\n",
    "# Train the Ridge model\n",
    "ridge_model_2.fit(X_train_scaled, y_train)\n",
    "\n",
    "# Make predictions on the testing data\n",
    "y_pred = ridge_model_2.predict(X_test_scaled)\n"
   ]
  },
  {
   "cell_type": "code",
   "execution_count": 25,
   "id": "ac701f65",
   "metadata": {},
   "outputs": [
    {
     "name": "stdout",
     "output_type": "stream",
     "text": [
      "Training Mean Squared Error: 36318633.117242865\n",
      "Training R-squared: 0.9838625173879225\n",
      "\n",
      "Testing Mean Squared Error: 241360431.0879787\n",
      "Testing R-squared: 0.9028582945616498\n"
     ]
    },
    {
     "data": {
      "image/png": "[encoded data removed]",
      "text/plain": [
       "<Figure size 432x288 with 1 Axes>"
      ]
     },
     "metadata": {
      "needs_background": "light"
     },
     "output_type": "display_data"
    }
   ],
   "source": [
    "import matplotlib.pyplot as plt\n",
    "import numpy as np\n",
    "\n",
    "# Predictions on training set\n",
    "y_train_pred_2 = ridge_model_2.predict(X_train_scaled)\n",
    "\n",
    "# Predictions on testing set\n",
    "y_test_pred = ridge_model_2.predict(X_test_scaled)\n",
    "\n",
    "# Evaluate the model on training set\n",
    "mse_train = mean_squared_error(y_train, y_train_pred)\n",
    "r_squared_train = r2_score(y_train, y_train_pred)\n",
    "\n",
    "# Evaluate the model on testing set\n",
    "mse_test = mean_squared_error(y_test, y_test_pred)\n",
    "r_squared_test = r2_score(y_test, y_test_pred)\n",
    "\n",
    "print(\"Training Mean Squared Error:\", mse_train)\n",
    "print(\"Training R-squared:\", r_squared_train)\n",
    "print(\"\\nTesting Mean Squared Error:\", mse_test)\n",
    "print(\"Testing R-squared:\", r_squared_test)\n",
    "\n",
    "# Plot predictions vs actual values for testing set\n",
    "plt.scatter(y_test, y_test_pred)\n",
    "plt.xlabel(\"Actual Values\")\n",
    "plt.ylabel(\"Predicted Values\")\n",
    "plt.title(\"Predictions vs Actual Values (Testing Set)\")\n",
    "plt.show()\n"
   ]
  },
  {
   "cell_type": "code",
   "execution_count": null,
   "id": "2b30f7cb",
   "metadata": {},
   "outputs": [],
   "source": []
  }
 ],
 "metadata": {
  "kernelspec": {
   "display_name": "Python 3 (ipykernel)",
   "language": "python",
   "name": "python3"
  },
  "language_info": {
   "codemirror_mode": {
    "name": "ipython",
    "version": 3
   },
   "file_extension": ".py",
   "mimetype": "text/x-python",
   "name": "python",
   "nbconvert_exporter": "python",
   "pygments_lexer": "ipython3",
   "version": "3.9.7"
  }
 },
 "nbformat": 4,
 "nbformat_minor": 5
}
